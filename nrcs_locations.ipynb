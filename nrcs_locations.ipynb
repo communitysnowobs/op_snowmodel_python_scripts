{
 "cells": [
  {
   "cell_type": "code",
   "execution_count": 10,
   "metadata": {},
   "outputs": [],
   "source": [
    "#this script is a 'one-time' script. It will simply pull the locations of snotel sites\n",
    "#and then these should get written to a shapefile...\n",
    "import geopandas as gpd\n",
    "import pandas as pd\n",
    "import numpy as np\n",
    "from datetime import datetime, timedelta, date\n",
    "import requests\n",
    "import json\n",
    "from geojson import Point, Feature, FeatureCollection, dump\n",
    "from rasterstats import point_query\n",
    "from shapely import geometry as sgeom\n",
    "import ulmo\n",
    "from collections import OrderedDict\n",
    "from pathlib import Path"
   ]
  },
  {
   "cell_type": "code",
   "execution_count": 11,
   "metadata": {},
   "outputs": [],
   "source": [
    "#########################################################################\n",
    "# SNOTEL Functions\n",
    "#########################################################################\n",
    "\n",
    "# functions to get SNOTEL stations as geodataframe\n",
    "def sites_asgdf(ulmo_getsites, stn_proj):\n",
    "    \"\"\" Convert ulmo.cuahsi.wof.get_sites response into a point GeoDataframe\n",
    "    \"\"\"\n",
    "    \n",
    "    # Note: Found one SNOTEL site that was missing the location key\n",
    "    sites_df = pd.DataFrame.from_records([\n",
    "        OrderedDict(code=s['code'], \n",
    "        longitude=float(s['location']['longitude']), \n",
    "        latitude=float(s['location']['latitude']), \n",
    "        name=s['name'], \n",
    "        elevation_m=s['elevation_m'])\n",
    "        for _,s in ulmo_getsites.items()\n",
    "        if 'location' in s\n",
    "    ])\n",
    "\n",
    "    sites_gdf = gpd.GeoDataFrame(\n",
    "        sites_df, \n",
    "        geometry=gpd.points_from_xy(sites_df['longitude'], sites_df['latitude']),\n",
    "        crs=stn_proj\n",
    "    )\n",
    "    return sites_gdf"
   ]
  },
  {
   "cell_type": "code",
   "execution_count": 14,
   "metadata": {},
   "outputs": [],
   "source": [
    "def get_snotel_stns():\n",
    "    \n",
    "    #path to CSO domains\n",
    "    domains_resp = requests.get(\"https://raw.githubusercontent.com/snowmodel-tools/preprocess_python/master/CSO_domains.json\")\n",
    "    domains = domains_resp.json()\n",
    "    \n",
    "    #USA\n",
    "    Bbox = {\"latmax\": 72, \"latmin\": 18, \"lonmin\": -172, \"lonmax\": -66}\n",
    "    #Bbox = {\"latmax\": 44, \"latmin\": 43.5, \"lonmin\": -127, \"lonmax\": -122}\n",
    "    stn_proj = \"epsg:4326\"\n",
    "\n",
    "    # Convert the bounding box dictionary to a shapely Polygon geometry using sgeom.box\n",
    "    box_sgeom = sgeom.box(Bbox['lonmin'], Bbox['latmin'], Bbox['lonmax'], Bbox['latmax'])\n",
    "    box_gdf = gpd.GeoDataFrame(geometry=[box_sgeom], crs=stn_proj)\n",
    "    \n",
    "    # WaterML/WOF WSDL endpoint url \n",
    "    wsdlurl = \"https://hydroportal.cuahsi.org/Snotel/cuahsi_1_1.asmx?WSDL\"\n",
    "    \n",
    "    # get dictionary of snotel sites \n",
    "    sites = ulmo.cuahsi.wof.get_sites(wsdlurl,user_cache=True)\n",
    "\n",
    "    #turn sites to geodataframe \n",
    "    snotel_gdf = sites_asgdf(sites,stn_proj)\n",
    "    \n",
    "    #clip snotel sites to domain bounding box\n",
    "    gdf = gpd.sjoin(snotel_gdf, box_gdf, how=\"inner\")\n",
    "    gdf.drop(columns='index_right', inplace=True)\n",
    "    gdf.reset_index(drop=True, inplace=True)\n",
    "\n",
    "    return gdf"
   ]
  },
  {
   "cell_type": "code",
   "execution_count": 15,
   "metadata": {},
   "outputs": [
    {
     "name": "stdout",
     "output_type": "stream",
     "text": [
      "Retrieved station locations\n",
      "                        geometry\n",
      "0    POINT (-120.79192 41.23583)\n",
      "1    POINT (-112.27118 37.52217)\n",
      "2    POINT (-111.95902 45.59723)\n",
      "3    POINT (-150.88966 61.74967)\n",
      "4    POINT (-121.69847 47.77957)\n",
      "..                           ...\n",
      "925  POINT (-110.91773 33.81242)\n",
      "926  POINT (-111.35685 39.13233)\n",
      "927  POINT (-112.77495 37.74797)\n",
      "928  POINT (-109.81775 43.93225)\n",
      "929  POINT (-106.59535 40.79488)\n",
      "\n",
      "[930 rows x 1 columns]\n"
     ]
    }
   ],
   "source": [
    "#get snotel stations\n",
    "snotel_gdf = get_snotel_stns()\n",
    "print('Retrieved station locations')\n",
    "#print(snotel_gdf)\n",
    "cols=['geometry']\n",
    "snotel_gdf_subset=snotel_gdf[cols]\n",
    "print(snotel_gdf_subset)"
   ]
  },
  {
   "cell_type": "code",
   "execution_count": null,
   "metadata": {},
   "outputs": [],
   "source": []
  }
 ],
 "metadata": {
  "kernelspec": {
   "display_name": "Python [conda env:snowmodelcal]",
   "language": "python",
   "name": "conda-env-snowmodelcal-py"
  },
  "language_info": {
   "codemirror_mode": {
    "name": "ipython",
    "version": 3
   },
   "file_extension": ".py",
   "mimetype": "text/x-python",
   "name": "python",
   "nbconvert_exporter": "python",
   "pygments_lexer": "ipython3",
   "version": "3.6.10"
  }
 },
 "nbformat": 4,
 "nbformat_minor": 4
}
